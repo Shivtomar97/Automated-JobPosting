{
 "cells": [
  {
   "cell_type": "code",
   "execution_count": 6,
   "metadata": {},
   "outputs": [],
   "source": [
    "import selenium\n",
    "from selenium import webdriver\n",
    "from selenium.webdriver.common.keys import Keys\n",
    "import time\n",
    "\n",
    "\n",
    "driver = webdriver.Chrome()\n",
    "driver.get('https://joinhandshake.com/employers/')"
   ]
  },
  {
   "cell_type": "code",
   "execution_count": 7,
   "metadata": {},
   "outputs": [],
   "source": [
    "driver.find_element_by_xpath(\"/html/body/header/div[2]/nav[1]/div/div/a\").click()"
   ]
  },
  {
   "cell_type": "code",
   "execution_count": 8,
   "metadata": {},
   "outputs": [],
   "source": [
    "#To switch between the newly opened tab\n",
    "driver.switch_to.window(driver.window_handles[1])"
   ]
  },
  {
   "cell_type": "code",
   "execution_count": 9,
   "metadata": {
    "scrolled": true
   },
   "outputs": [],
   "source": [
    "#Authentication\n",
    "email = driver.find_element_by_xpath(\"/html/body/div/div[2]/div[1]/div[1]/div[3]/form/input[4]\")\n",
    "email.send_keys(\"katianne.brockpahler@sanfordhealth.org\")\n",
    "driver.find_element_by_xpath(\"/html/body/div/div[2]/div[1]/div[1]/div[3]/form/div/button\").click()\n",
    "pwd = driver.find_element_by_xpath(\"/html/body/div/div[2]/div/form/div/input[2]\")\n",
    "pwd.send_keys(\"Sanford2018\")\n",
    "driver.find_element_by_xpath(\"/html/body/div/div[2]/div/form/div/div/button\").click()"
   ]
  },
  {
   "cell_type": "code",
   "execution_count": 10,
   "metadata": {},
   "outputs": [],
   "source": [
    "driver.find_element_by_xpath(\"/html/body/div[2]/div[2]/div/div[2]/div[1]/div[1]/a\").click()"
   ]
  },
  {
   "cell_type": "code",
   "execution_count": 11,
   "metadata": {},
   "outputs": [
    {
     "name": "stdout",
     "output_type": "stream",
     "text": [
      "  Requisition ID Site/Region  Posting Date  \\\n",
      "0        R-16776   HandShake         43893   \n",
      "1        R-13786   HandShake         43893   \n",
      "2        R-18810   HandShake         43893   \n",
      "\n",
      "                                    Job Posting link  Expiration Date  \\\n",
      "0  https://sanfordhealth.jobs/fargo-nd/surgical-t...            43990   \n",
      "1  https://sanfordhealth.jobs/thief-river-falls-m...            43996   \n",
      "2  https://sanfordhealth.jobs/fargo-nd/vascular-s...            43996   \n",
      "\n",
      "       Created By Item Type  \\\n",
      "0  Hemme,Cheyenne      Item   \n",
      "1  Hemme,Cheyenne      Item   \n",
      "2  Hemme,Cheyenne      Item   \n",
      "\n",
      "                                                Path Requisition Status  \\\n",
      "0  Departments/HumanResources/private/talentacqui...               Open   \n",
      "1  Departments/HumanResources/private/talentacqui...               Open   \n",
      "2  Departments/HumanResources/private/talentacqui...               Open   \n",
      "\n",
      "  Job Schedule                                      Job Title  \\\n",
      "0    Full time  Surgical Technologist | Operating Room - SMCF   \n",
      "1    Full time                Dietician | Clinical Dieticians   \n",
      "2    Full time    Vascular Sonographer | Radiology Ultrasound   \n",
      "\n",
      "                                Position Description  \\\n",
      "0  Assists in the assessment, planning, implement...   \n",
      "1  Provides medical nutrition therapy services an...   \n",
      "2  Uses cognitive sonographic skills to identify ...   \n",
      "\n",
      "  Requisition Full/Part Time  \\\n",
      "0                  Full time   \n",
      "1                  Full time   \n",
      "2                  Full time   \n",
      "\n",
      "     Department Details (Additional Job Description)  \\\n",
      "0  Surgical technologist are an integral part of ...   \n",
      "1  Plans, develops, and provides diet interventio...   \n",
      "2  Performs all required ultrasound and clinical ...   \n",
      "\n",
      "                                      Qualifications  \n",
      "0  Graduate of an approved school of surgical tec...  \n",
      "1  Minimum of a bachelor’s degree in dietetics or...  \n",
      "2  Associate degree in Cardiovascular Technology ...  \n"
     ]
    }
   ],
   "source": [
    "import pandas as pd\n",
    "data1= pd.read_excel('Test_Data.xlsx')\n",
    "data2= pd.read_excel('posting.xlsx')\n",
    "data=pd.merge(data1, data2, how='inner', on='Requisition ID')\n",
    "print(data)"
   ]
  },
  {
   "cell_type": "code",
   "execution_count": 4,
   "metadata": {
    "scrolled": true
   },
   "outputs": [
    {
     "data": {
      "text/html": [
       "<div>\n",
       "<style scoped>\n",
       "    .dataframe tbody tr th:only-of-type {\n",
       "        vertical-align: middle;\n",
       "    }\n",
       "\n",
       "    .dataframe tbody tr th {\n",
       "        vertical-align: top;\n",
       "    }\n",
       "\n",
       "    .dataframe thead th {\n",
       "        text-align: right;\n",
       "    }\n",
       "</style>\n",
       "<table border=\"1\" class=\"dataframe\">\n",
       "  <thead>\n",
       "    <tr style=\"text-align: right;\">\n",
       "      <th></th>\n",
       "      <th>Requisition ID</th>\n",
       "      <th>Site/Region</th>\n",
       "      <th>Posting Date</th>\n",
       "      <th>Job Posting link</th>\n",
       "      <th>Expiration Date</th>\n",
       "      <th>Created By</th>\n",
       "      <th>Item Type</th>\n",
       "      <th>Path</th>\n",
       "      <th>Requisition Status</th>\n",
       "      <th>Job Schedule</th>\n",
       "      <th>Job Title</th>\n",
       "      <th>Position Description</th>\n",
       "      <th>Requisition Full/Part Time</th>\n",
       "      <th>Department Details (Additional Job Description)</th>\n",
       "      <th>Qualifications</th>\n",
       "    </tr>\n",
       "  </thead>\n",
       "  <tbody>\n",
       "    <tr>\n",
       "      <td>0</td>\n",
       "      <td>R-16776</td>\n",
       "      <td>HandShake</td>\n",
       "      <td>43893</td>\n",
       "      <td>https://sanfordhealth.jobs/fargo-nd/surgical-t...</td>\n",
       "      <td>43990</td>\n",
       "      <td>Hemme,Cheyenne</td>\n",
       "      <td>Item</td>\n",
       "      <td>Departments/HumanResources/private/talentacqui...</td>\n",
       "      <td>Open</td>\n",
       "      <td>Full time</td>\n",
       "      <td>Surgical Technologist | Operating Room - SMCF</td>\n",
       "      <td>Assists in the assessment, planning, implement...</td>\n",
       "      <td>Full time</td>\n",
       "      <td>Surgical technologist are an integral part of ...</td>\n",
       "      <td>Graduate of an approved school of surgical tec...</td>\n",
       "    </tr>\n",
       "    <tr>\n",
       "      <td>1</td>\n",
       "      <td>R-13786</td>\n",
       "      <td>HandShake</td>\n",
       "      <td>43893</td>\n",
       "      <td>https://sanfordhealth.jobs/thief-river-falls-m...</td>\n",
       "      <td>43996</td>\n",
       "      <td>Hemme,Cheyenne</td>\n",
       "      <td>Item</td>\n",
       "      <td>Departments/HumanResources/private/talentacqui...</td>\n",
       "      <td>Open</td>\n",
       "      <td>Full time</td>\n",
       "      <td>Dietician | Clinical Dieticians</td>\n",
       "      <td>Provides medical nutrition therapy services an...</td>\n",
       "      <td>Full time</td>\n",
       "      <td>Plans, develops, and provides diet interventio...</td>\n",
       "      <td>Minimum of a bachelor’s degree in dietetics or...</td>\n",
       "    </tr>\n",
       "    <tr>\n",
       "      <td>2</td>\n",
       "      <td>R-18810</td>\n",
       "      <td>HandShake</td>\n",
       "      <td>43893</td>\n",
       "      <td>https://sanfordhealth.jobs/fargo-nd/vascular-s...</td>\n",
       "      <td>43996</td>\n",
       "      <td>Hemme,Cheyenne</td>\n",
       "      <td>Item</td>\n",
       "      <td>Departments/HumanResources/private/talentacqui...</td>\n",
       "      <td>Open</td>\n",
       "      <td>Full time</td>\n",
       "      <td>Vascular Sonographer | Radiology Ultrasound</td>\n",
       "      <td>Uses cognitive sonographic skills to identify ...</td>\n",
       "      <td>Full time</td>\n",
       "      <td>Performs all required ultrasound and clinical ...</td>\n",
       "      <td>Associate degree in Cardiovascular Technology ...</td>\n",
       "    </tr>\n",
       "  </tbody>\n",
       "</table>\n",
       "</div>"
      ],
      "text/plain": [
       "  Requisition ID Site/Region  Posting Date  \\\n",
       "0        R-16776   HandShake         43893   \n",
       "1        R-13786   HandShake         43893   \n",
       "2        R-18810   HandShake         43893   \n",
       "\n",
       "                                    Job Posting link  Expiration Date  \\\n",
       "0  https://sanfordhealth.jobs/fargo-nd/surgical-t...            43990   \n",
       "1  https://sanfordhealth.jobs/thief-river-falls-m...            43996   \n",
       "2  https://sanfordhealth.jobs/fargo-nd/vascular-s...            43996   \n",
       "\n",
       "       Created By Item Type  \\\n",
       "0  Hemme,Cheyenne      Item   \n",
       "1  Hemme,Cheyenne      Item   \n",
       "2  Hemme,Cheyenne      Item   \n",
       "\n",
       "                                                Path Requisition Status  \\\n",
       "0  Departments/HumanResources/private/talentacqui...               Open   \n",
       "1  Departments/HumanResources/private/talentacqui...               Open   \n",
       "2  Departments/HumanResources/private/talentacqui...               Open   \n",
       "\n",
       "  Job Schedule                                      Job Title  \\\n",
       "0    Full time  Surgical Technologist | Operating Room - SMCF   \n",
       "1    Full time                Dietician | Clinical Dieticians   \n",
       "2    Full time    Vascular Sonographer | Radiology Ultrasound   \n",
       "\n",
       "                                Position Description  \\\n",
       "0  Assists in the assessment, planning, implement...   \n",
       "1  Provides medical nutrition therapy services an...   \n",
       "2  Uses cognitive sonographic skills to identify ...   \n",
       "\n",
       "  Requisition Full/Part Time  \\\n",
       "0                  Full time   \n",
       "1                  Full time   \n",
       "2                  Full time   \n",
       "\n",
       "     Department Details (Additional Job Description)  \\\n",
       "0  Surgical technologist are an integral part of ...   \n",
       "1  Plans, develops, and provides diet interventio...   \n",
       "2  Performs all required ultrasound and clinical ...   \n",
       "\n",
       "                                      Qualifications  \n",
       "0  Graduate of an approved school of surgical tec...  \n",
       "1  Minimum of a bachelor’s degree in dietetics or...  \n",
       "2  Associate degree in Cardiovascular Technology ...  "
      ]
     },
     "execution_count": 4,
     "metadata": {},
     "output_type": "execute_result"
    }
   ],
   "source": [
    "data"
   ]
  },
  {
   "cell_type": "code",
   "execution_count": 5,
   "metadata": {},
   "outputs": [
    {
     "data": {
      "text/plain": [
       "'Surgical Technologist | Operating Room - SMCF'"
      ]
     },
     "execution_count": 5,
     "metadata": {},
     "output_type": "execute_result"
    }
   ],
   "source": [
    "#data[\"Job Title\"][0]"
   ]
  },
  {
   "cell_type": "code",
   "execution_count": 16,
   "metadata": {},
   "outputs": [],
   "source": [
    "#Job Title\n",
    "time.sleep(2)\n",
    "driver.find_element_by_xpath(\"/html/body/div[2]/div[3]/div/div/div/div[1]/div/div/div[1]/div/form/div/div/div/div/div/div[2]/div/div/input\").send_keys(data[\"Job Title\"][0])\n"
   ]
  },
  {
   "cell_type": "code",
   "execution_count": 17,
   "metadata": {},
   "outputs": [],
   "source": [
    "#Apply in Handshake or not\n",
    "driver.implicitly_wait(4)\n",
    "driver.find_element_by_id(\"jobApplySetting.applyType-Applythroughexternalsystem\").click()\n",
    "    \n"
   ]
  },
  {
   "cell_type": "code",
   "execution_count": 19,
   "metadata": {},
   "outputs": [],
   "source": [
    "#Job Type\n",
    "driver.find_element_by_xpath(\"/html/body/div[2]/div[3]/div/div/div/div[1]/div/div/div[1]/div/form/div/div/div/div/div/fieldset[1]/div/div/div/div[7]/div/label/input\").click()\n",
    "\n"
   ]
  },
  {
   "cell_type": "code",
   "execution_count": null,
   "metadata": {},
   "outputs": [],
   "source": [
    "#Job URL\n",
    "driver.find_element_by_id(\"jobApplySetting.externalUrl\").send_keys(data[\"Job Posting link\"][0])\n",
    "\n"
   ]
  },
  {
   "cell_type": "code",
   "execution_count": 20,
   "metadata": {},
   "outputs": [],
   "source": [
    "#Employement Type\n",
    "driver.execute_script(\"window.scrollTo(0, document.body.scrollHeight);\")\n",
    "time.sleep(6)\n",
    "if data[\"Job Schedule\"][0]== 'Full time':\n",
    "    driver.find_element_by_id(\"employmentTypeId-Full-Time\").click()\n",
    "else:\n",
    "    driver.find_element_by_id(\"employmentTypeId-Part-Time\").click()"
   ]
  },
  {
   "cell_type": "code",
   "execution_count": 24,
   "metadata": {},
   "outputs": [],
   "source": [
    "#Hitting Next\n",
    "driver.find_element_by_id(\"next-page-button\").click()\n"
   ]
  },
  {
   "cell_type": "code",
   "execution_count": 25,
   "metadata": {},
   "outputs": [],
   "source": [
    "#Decscription\n",
    "desc = driver.find_element_by_xpath(\"/html/body/div[2]/div[3]/div/div/div/div[1]/div/div/div[1]/div/form/div/div/div/div/div[1]/div/div[1]/div[2]/div[1]\")\n",
    "desc.send_keys(data[\"Position Description\"][0])"
   ]
  },
  {
   "cell_type": "code",
   "execution_count": 556,
   "metadata": {},
   "outputs": [],
   "source": [
    "#Splitting Job Roles\n",
    "a=data[\"Job Roles\"][0]\n",
    "a=a.split(',') \n"
   ]
  },
  {
   "cell_type": "code",
   "execution_count": 557,
   "metadata": {},
   "outputs": [],
   "source": [
    "#Job Roles\n",
    "import time\n",
    "for i in a:\n",
    "    jobroles = driver.find_element_by_xpath(\"/html/body/div[2]/div[3]/div/div/div/div[1]/div/div/div[1]/div/form/div/div/div/div/div[2]/div[1]/div/div/div/span[1]/div[2]/input\")\n",
    "    jobroles.send_keys(i.lstrip())\n",
    "    time.sleep(2)\n",
    "    jobroles.send_keys(Keys.TAB)\n"
   ]
  },
  {
   "cell_type": "code",
   "execution_count": 558,
   "metadata": {},
   "outputs": [],
   "source": [
    "#Hire Requirement\n",
    "d=1\n",
    "hreq = driver.find_element_by_xpath(\"/html/body/div[2]/div[3]/div/div/div/div[1]/div/div/div[1]/div/form/div/div/div/div/div[3]/div[1]/div/div/div/input\")\n"
   ]
  },
  {
   "cell_type": "code",
   "execution_count": 559,
   "metadata": {},
   "outputs": [],
   "source": [
    "#Paid Unpaid\n",
    "\n",
    "driver.execute_script(\"window.scrollTo(0, document.body.scrollHeight);\")\n",
    "time.sleep(6)\n",
    "if data[\"Paid / Unpaid\"][0]== 'Paid' or 'paid':\n",
    "    driver.find_element_by_xpath(\"/html/body/div[2]/div[3]/div/div/div/div[1]/div/div/div[1]/div/form/div/div/div/div/div[4]/fieldset/div/div/div/div[1]/div/label/input\").click()\n",
    "else:\n",
    "    driver.find_element_by_xpath(\"/html/body/div[2]/div[3]/div/div/div/div[1]/div/div/div[1]/div/form/div/div/div/div/div[4]/fieldset/div/div/div/div[2]/div/label/input\").click()\n"
   ]
  },
  {
   "cell_type": "code",
   "execution_count": 560,
   "metadata": {},
   "outputs": [],
   "source": [
    "#Salary\n",
    "s=int(data[\"Salary\"][0])\n",
    "sal = driver.find_element_by_xpath(\"/html/body/div[2]/div[3]/div/div/div/div[1]/div/div/div[1]/div/form/div/div/div/div/div[4]/div/div/div[1]/div[1]/div/div/span/input\")\n",
    "sal.send_keys(s)\n"
   ]
  },
  {
   "cell_type": "code",
   "execution_count": 561,
   "metadata": {},
   "outputs": [],
   "source": [
    "#Location\n",
    "loc = driver.find_element_by_xpath(\"/html/body/div[2]/div[3]/div/div/div/div[1]/div/div/div[1]/div/form/div/div/div/div/div[5]/div/div/div[1]/div/div/div/div/div/div/input\")\n",
    "loc.send_keys('Sioux Falls, South Dakota, United States of America')\n",
    "time.sleep(2)\n",
    "loc.send_keys(Keys.ENTER)\n",
    "loc.send_keys(Keys.ENTER)\n"
   ]
  },
  {
   "cell_type": "code",
   "execution_count": 562,
   "metadata": {},
   "outputs": [],
   "source": [
    "#WorkAuth\n",
    "time.sleep(6)\n",
    "if data[\"workauth\"][0]== 'no':\n",
    "    driver.find_element_by_xpath(\"/html/body/div[2]/div[3]/div/div/div/div[1]/div/div/div[1]/div/form/div/div/div/div/div[6]/div/fieldset/div/div/div/div[2]/div/label/input\").click()\n",
    "else:\n",
    "     driver.find_element_by_xpath(\"/html/body/div[2]/div[3]/div/div/div/div[1]/div/div/div[1]/div/form/div/div/div/div/div[6]/div/fieldset/div/div/div/div[1]/div/label/input\").click()\n",
    "    "
   ]
  },
  {
   "cell_type": "code",
   "execution_count": 563,
   "metadata": {},
   "outputs": [],
   "source": [
    "#Sponsor and OPT/CPT\n",
    "time.sleep(2)\n",
    "driver.execute_script(\"window.scrollTo(0, document.body.scrollHeight);\")\n",
    "if data[\"sponsor \"][0]== 'no':\n",
    "    driver.find_element_by_xpath(\"/html/body/div[2]/div[3]/div/div/div/div[1]/div/div/div[1]/div/form/div/div/div/div/div[7]/div[1]/fieldset/div/div/div/div[2]/div/label/input\").click()\n",
    "else:\n",
    "     driver.find_element_by_xpath(\"/html/body/div[2]/div[3]/div/div/div/div[1]/div/div/div[1]/div/form/div/div/div/div/div[7]/div[1]/fieldset/div/div/div/div[1]/div/label/input\").click()\n",
    "time.sleep(2)\n",
    "driver.execute_script(\"window.scrollTo(0, document.body.scrollHeight);\")\n",
    "if data[\"OPT/CPT\"][0]== 'no':\n",
    "    driver.find_element_by_xpath(\"/html/body/div[2]/div[3]/div/div/div/div[1]/div/div/div[1]/div/form/div/div/div/div/div[7]/div[2]/fieldset/div/div/div/div[2]/div/label/input\").click()\n",
    "else:\n",
    "     driver.find_element_by_xpath(\"/html/body/div[2]/div[3]/div/div/div/div[1]/div/div/div[1]/div/form/div/div/div/div/div[7]/div[2]/fieldset/div/div/div/div[1]/div/label/input\").click()\n",
    "    "
   ]
  },
  {
   "cell_type": "code",
   "execution_count": 564,
   "metadata": {},
   "outputs": [],
   "source": [
    "#Docs\n",
    "time.sleep(6)\n",
    "if data[\"Resume\"][0]== 'no':\n",
    "    driver.find_element_by_xpath(\"/html/body/div[2]/div[3]/div/div/div/div[1]/div/div/div[1]/div/form/div/div/div/div/div[8]/div/div[1]/div/div[1]/label/input\").click()\n",
    "\n",
    "if data[\"Cover Letter\"][0]== 'yes':\n",
    "    driver.find_element_by_xpath(\"/html/body/div[2]/div[3]/div/div/div/div[1]/div/div/div[1]/div/form/div/div/div/div/div[8]/div/div[1]/div/div[2]/label/input\").click()\n",
    "\n",
    "if data[\"Transcipt\"][0]== 'yes':\n",
    "    driver.find_element_by_xpath(\"/html/body/div[2]/div[3]/div/div/div/div[1]/div/div/div[1]/div/form/div/div/div/div/div[8]/div/div[1]/div/div[3]/label/input\").click()\n",
    "\n",
    "\n"
   ]
  },
  {
   "cell_type": "code",
   "execution_count": 565,
   "metadata": {},
   "outputs": [],
   "source": [
    "driver.find_element_by_xpath(\"/html/body/div[2]/div[3]/div/div/div/div[1]/div/div/div[2]/div/div[1]/button[2]/span\").click()\n",
    "time.sleep(1)\n",
    "driver.find_element_by_xpath(\"/html/body/div[2]/div[3]/div/div/div/div[1]/div/div/div[2]/div/div[1]/button[2]/span\").click()\n"
   ]
  },
  {
   "cell_type": "code",
   "execution_count": 566,
   "metadata": {},
   "outputs": [],
   "source": [
    "stdate = driver.find_element_by_xpath(\"/html/body/div[2]/div[3]/div/div/div/div[1]/div/div/div[1]/div/form/div/div[1]/div/div[1]/div/div[3]/div/div/div/div/span/input\")\n",
    "stdate.send_keys(\"03/01/2020\")\n",
    "expdate = driver.find_element_by_xpath(\"/html/body/div[2]/div[3]/div/div/div/div[1]/div/div/div[1]/div/form/div/div[1]/div/div[1]/div/div[5]/div/div/div/span/input\")\n",
    "expdate.send_keys(\"03/01/2022\")\n",
    "time.sleep(1)\n",
    "driver.find_element_by_xpath(\"/html/body/div[2]/div[3]/div/div/div/div[1]/div/div/div[1]/div/form/div/div[1]/div/div[2]/div[1]/span[1]/button/span\").click()"
   ]
  },
  {
   "cell_type": "code",
   "execution_count": 567,
   "metadata": {},
   "outputs": [],
   "source": [
    "time.sleep(30)\n",
    "expdate= driver.find_element_by_xpath(\"/html/body/div[2]/div[3]/div/div/div/div[1]/div/div/div[1]/div/form/div/div[1]/div/div[1]/div/div[5]/div/div/div/span/input\")\n",
    "expdate.send_keys(Keys.TAB)\n",
    "time.sleep(2)\n",
    "driver.find_elements_by_tag_name('button')[40].click()\n",
    "\n",
    "\n"
   ]
  },
  {
   "cell_type": "code",
   "execution_count": 568,
   "metadata": {},
   "outputs": [],
   "source": [
    "driver.find_element_by_xpath(\"/html/body/div[2]/div[3]/div/div/div/div[1]/div/div/div[2]/div/div[1]/button[2]/span\").click()\n"
   ]
  },
  {
   "cell_type": "code",
   "execution_count": 27,
   "metadata": {},
   "outputs": [
    {
     "data": {
      "text/html": [
       "<style>.container { width:80% !important; }</style>"
      ],
      "text/plain": [
       "<IPython.core.display.HTML object>"
      ]
     },
     "metadata": {},
     "output_type": "display_data"
    }
   ],
   "source": [
    "from IPython.core.display import display, HTML\n",
    "display(HTML(\"<style>.container { width:80% !important; }</style>\"))"
   ]
  },
  {
   "cell_type": "code",
   "execution_count": null,
   "metadata": {},
   "outputs": [],
   "source": []
  }
 ],
 "metadata": {
  "kernelspec": {
   "display_name": "Python 3",
   "language": "python",
   "name": "python3"
  },
  "language_info": {
   "codemirror_mode": {
    "name": "ipython",
    "version": 3
   },
   "file_extension": ".py",
   "mimetype": "text/x-python",
   "name": "python",
   "nbconvert_exporter": "python",
   "pygments_lexer": "ipython3",
   "version": "3.7.4"
  }
 },
 "nbformat": 4,
 "nbformat_minor": 2
}
